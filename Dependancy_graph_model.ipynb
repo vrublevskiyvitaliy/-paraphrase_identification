{
  "nbformat": 4,
  "nbformat_minor": 0,
  "metadata": {
    "colab": {
      "name": "Dependancy graph model.ipynb",
      "provenance": [],
      "authorship_tag": "ABX9TyNYvlMu8LFJkkEvDWJzdzk/",
      "include_colab_link": true
    },
    "kernelspec": {
      "name": "python3",
      "display_name": "Python 3"
    }
  },
  "cells": [
    {
      "cell_type": "markdown",
      "metadata": {
        "id": "view-in-github",
        "colab_type": "text"
      },
      "source": [
        "<a href=\"https://colab.research.google.com/github/vrublevskiyvitaliy/paraphrase_identification/blob/master/Dependancy_graph_model.ipynb\" target=\"_parent\"><img src=\"https://colab.research.google.com/assets/colab-badge.svg\" alt=\"Open In Colab\"/></a>"
      ]
    },
    {
      "cell_type": "code",
      "metadata": {
        "id": "XztfhODbrrHb",
        "colab_type": "code",
        "colab": {}
      },
      "source": [
        "# All imports and installs should be here\n",
        "import os\n",
        "import numpy as np\n",
        "from nltk import wordpunct_tokenize\n",
        "import operator\n",
        "import re, string\n",
        "import math\n"
      ],
      "execution_count": 0,
      "outputs": []
    },
    {
      "cell_type": "code",
      "metadata": {
        "id": "pwL7Vf5ZuDhb",
        "colab_type": "code",
        "colab": {}
      },
      "source": [
        "# All constants\n",
        "\n",
        "COLAB_ENV = \"colab\"\n",
        "LOCAL_ENV = \"local\"\n",
        "\n",
        "SENTENCE_START_TOKEN = \"sentence_start\"\n",
        "SENTENCE_END_TOKEN = \"sentence_end\"\n",
        "UNKNOWN_TOKEN = \"unknown_token\"\n"
      ],
      "execution_count": 0,
      "outputs": []
    },
    {
      "cell_type": "code",
      "metadata": {
        "id": "O-8mJhdNQ_Ly",
        "colab_type": "code",
        "colab": {}
      },
      "source": [
        "# To be able run this notebook from Google Colab and localy\n",
        "\n",
        "def get_running_env():\n",
        "  current_path = os.getcwd()\n",
        "  if current_path == \"/content\":\n",
        "    return COLAB_ENV\n",
        "  return LOCAL_ENV\n",
        "\n",
        "RUNNING_ENV = get_running_env()"
      ],
      "execution_count": 0,
      "outputs": []
    },
    {
      "cell_type": "code",
      "metadata": {
        "id": "6dImWT2bp6G_",
        "colab_type": "code",
        "colab": {}
      },
      "source": [
        "# Supress output of the cell\n",
        "%%capture\n",
        "def download_corpus():\n",
        "    \"\"\"\n",
        "      Downloading corpus files for colab research.\n",
        "    \"\"\" \n",
        "    if RUNNING_ENV == LOCAL_ENV:\n",
        "      return\n",
        "    files = [\n",
        "      'vrublevskiyvitaliy/paraphrase_identification/contents/dataset/msr-paraphrase-corpus/msr_paraphrase_train.txt',\n",
        "      'vrublevskiyvitaliy/paraphrase_identification/contents/dataset/msr-paraphrase-corpus/msr_paraphrase_test.txt',\n",
        "    ]\n",
        "    for f in files:\n",
        "       !curl --remote-name \\\n",
        "          -H 'Accept: application/vnd.github.v3.raw' \\\n",
        "          --location https://api.github.com/repos/{f}\n",
        "\n",
        "download_corpus()"
      ],
      "execution_count": 0,
      "outputs": []
    },
    {
      "cell_type": "code",
      "metadata": {
        "id": "68YN2DiItGSn",
        "colab_type": "code",
        "colab": {}
      },
      "source": [
        "def get_data_location():\n",
        "  return \"\" if RUNNING_ENV == COLAB_ENV else \"./dataset/msr-paraphrase-corpus/\"\n",
        "\n",
        "def add_start_end_sentence_tokens(s):\n",
        "  return \"%s %s %s\" % (SENTENCE_START_TOKEN, s, SENTENCE_END_TOKEN)\n",
        "\n",
        "def load_data(_preprocess_sentence=None, _train=False, _test=False):\n",
        "    \"Load the MSRP dataset.\"\n",
        "    loc = get_data_location()\n",
        "    trainloc = loc + 'msr_paraphrase_train.txt'\n",
        "    testloc = loc + 'msr_paraphrase_test.txt'\n",
        "\n",
        "    if _preprocess_sentence is None:\n",
        "      _preprocess_sentence = lambda x: x\n",
        "\n",
        "    sent1_train, sent2_train, sent1_test, sent2_test = [], [], [], []\n",
        "    label_train, label_dev, label_test = [], [], []\n",
        "\n",
        "    if _train:\n",
        "        with open(trainloc, 'r', encoding='utf8') as f:\n",
        "            f.readline()  # skipping the header of the file\n",
        "            for line in f:\n",
        "                text = line.strip().split('\\t')\n",
        "                sent1_train.append(_preprocess_sentence(text[3]))\n",
        "                sent2_train.append(_preprocess_sentence(text[4]))\n",
        "                label_train.append(int(text[0]))\n",
        "\n",
        "    if _test:\n",
        "        with open(testloc, 'r', encoding='utf8') as f:\n",
        "            f.readline()  # skipping the header of the file\n",
        "            for line in f:\n",
        "                text = line.strip().split('\\t')\n",
        "                sent1_test.append(_preprocess_sentence(text[3]))\n",
        "                sent2_test.append(_preprocess_sentence(text[4]))\n",
        "                label_test.append(int(text[0]))\n",
        "\n",
        "    if _train and _test:\n",
        "        return [sent1_train, sent2_train], [sent1_test, sent2_test], [label_train, label_test]\n",
        "    elif _train:\n",
        "        return [sent1_train, sent2_train], label_train\n",
        "    elif _test:\n",
        "        return [sent1_test, sent2_test], label_test"
      ],
      "execution_count": 0,
      "outputs": []
    },
    {
      "cell_type": "code",
      "metadata": {
        "id": "VGGnZ4yXt5uF",
        "colab_type": "code",
        "colab": {}
      },
      "source": [
        "data = load_data(_preprocess_sentence=None, _train=True, _test=False)"
      ],
      "execution_count": 0,
      "outputs": []
    },
    {
      "cell_type": "code",
      "metadata": {
        "id": "UH1jVrdJwtwB",
        "colab_type": "code",
        "colab": {}
      },
      "source": [
        "def get_sample_data():\n",
        "  all_data = load_data(_preprocess_sentence=None, _train=True, _test=False)\n",
        "  return all_data[0][0][0], all_data[0][1][0],  all_data[1][0]"
      ],
      "execution_count": 0,
      "outputs": []
    },
    {
      "cell_type": "code",
      "metadata": {
        "id": "sYAEDEhIxBVp",
        "colab_type": "code",
        "colab": {
          "base_uri": "https://localhost:8080/",
          "height": 68
        },
        "outputId": "9968a655-de4f-4f26-c75d-a585f851a1ec"
      },
      "source": [
        "sample = get_sample_data()\n",
        "sample"
      ],
      "execution_count": 37,
      "outputs": [
        {
          "output_type": "execute_result",
          "data": {
            "text/plain": [
              "('Amrozi accused his brother, whom he called \"the witness\", of deliberately distorting his evidence.',\n",
              " 'Referring to him as only \"the witness\", Amrozi accused his brother of deliberately distorting his evidence.',\n",
              " 1)"
            ]
          },
          "metadata": {
            "tags": []
          },
          "execution_count": 37
        }
      ]
    }
  ]
}
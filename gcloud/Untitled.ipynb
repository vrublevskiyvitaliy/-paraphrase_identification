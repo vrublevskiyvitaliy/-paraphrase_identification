{
 "cells": [
  {
   "cell_type": "code",
   "execution_count": 1,
   "metadata": {},
   "outputs": [],
   "source": [
    "# Best f1\n",
    "# LinearSVC {'precision': 74.57, 'recall': 94.59, 'f1': 83.4, 'accuracy': 74.96} [False, True, True, False, False, False, False, False, False, True, True, True, True, False, True, True, False, True, True, True, True, True, False, False, True, False, False, False, False, True, True, True, True, True, False, True, True, True, True, True, True, True, True, True, False, True, False, True, False, True, True, False, False, False, True, False, True, False, False, True, True, False, False, True, True, True, False, True, True, True, False, True, False, False, False, False, True, False, True, True, True, True, True, False, True, True, False, True, True, False, False, True, False, False, False, False, True, True, True, False, True, False, False, False, True, True, True, True, True, False, False, True, False]"
   ]
  },
  {
   "cell_type": "code",
   "execution_count": null,
   "metadata": {},
   "outputs": [],
   "source": []
  }
 ],
 "metadata": {
  "kernelspec": {
   "display_name": "Python 3",
   "language": "python",
   "name": "python3"
  },
  "language_info": {
   "codemirror_mode": {
    "name": "ipython",
    "version": 3
   },
   "file_extension": ".py",
   "mimetype": "text/x-python",
   "name": "python",
   "nbconvert_exporter": "python",
   "pygments_lexer": "ipython3",
   "version": "3.7.7"
  }
 },
 "nbformat": 4,
 "nbformat_minor": 4
}
